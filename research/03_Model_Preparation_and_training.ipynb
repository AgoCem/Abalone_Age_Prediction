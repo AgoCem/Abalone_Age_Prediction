{
 "cells": [
  {
   "cell_type": "code",
   "execution_count": 1,
   "metadata": {},
   "outputs": [],
   "source": [
    "import os\n",
    "import numpy as np\n",
    "import pandas as pd\n",
    "from sklearn.ensemble import RandomForestRegressor\n",
    "from sklearn.linear_model import Lasso, Ridge, LinearRegression, ElasticNet\n",
    "from sklearn.svm import SVR\n",
    "os.chdir(\"../\")\n"
   ]
  },
  {
   "cell_type": "code",
   "execution_count": 2,
   "metadata": {},
   "outputs": [
    {
     "data": {
      "text/plain": [
       "'c:\\\\Users\\\\agost\\\\Data_Career\\\\End_to_end_projects\\\\Abalone_Age_Prediction'"
      ]
     },
     "execution_count": 2,
     "metadata": {},
     "output_type": "execute_result"
    }
   ],
   "source": [
    "%pwd"
   ]
  },
  {
   "cell_type": "code",
   "execution_count": 3,
   "metadata": {},
   "outputs": [],
   "source": [
    "from dataclasses import dataclass\n",
    "from pathlib import Path\n",
    "\n",
    "@dataclass(frozen=True)\n",
    "class ModelPreparationTrainingConfig:\n",
    "    root_dir: Path\n",
    "    local_data_file: Path\n",
    "    trained_model_path: Path\n",
    "    param_n_estim_rfr: int\n",
    "    param_random_state: int\n",
    "    param_alpha_lasso: float\n",
    "    param_alpha_ridge: float\n",
    "    param_alpha_elastic: float\n",
    "    param_l1_elastic: float\n",
    "    param_c_svr: float\n",
    "    param_target_col: str\n"
   ]
  },
  {
   "cell_type": "code",
   "execution_count": 4,
   "metadata": {},
   "outputs": [],
   "source": [
    "from Abalone_Age_Prediction.utils.common import create_directories, read_yaml, save_object\n",
    "from Abalone_Age_Prediction.constants import *\n",
    "from Abalone_Age_Prediction import logger"
   ]
  },
  {
   "cell_type": "code",
   "execution_count": 5,
   "metadata": {},
   "outputs": [],
   "source": [
    "class ConfigurationManager:\n",
    "    def __init__(self,\n",
    "                 config_filepath = CONFIG_FILE_PATH,\n",
    "                 params_filepath = PARAMS_FILE_PATH):\n",
    "        self.config = read_yaml(config_filepath)\n",
    "        self.params = read_yaml(params_filepath)\n",
    "\n",
    "        create_directories([self.config.artifacts_root]) #the artifacts_root is the key of the dictionary created\n",
    "                                                # in the yaml file and we can read this key like that instead of\n",
    "                                                # [\"artifacts_root\"] because we used the ConfigBox in the common.py file\n",
    "\n",
    "\n",
    "    def get_model_preparation_training_config(self) -> ModelPreparationTrainingConfig:\n",
    "        config = self.config.model_preparation_training #model_preparation_training is the other key value of the dictionary in the config.yaml file\n",
    "\n",
    "        model_preparation_training_config = ModelPreparationTrainingConfig(\n",
    "            root_dir=config.root_dir,\n",
    "            local_data_file = config.local_data_file,\n",
    "            trained_model_path = config.trained_model_path,\n",
    "            param_n_estim_rfr=self.params.N_ESTIMATORS_RFR,\n",
    "            param_random_state=self.params.RANDOM_STATE,\n",
    "            param_alpha_lasso=self.params.ALPHA_LASSO,\n",
    "            param_alpha_ridge=self.params.ALPHA_RIDGE,\n",
    "            param_alpha_elastic=self.params.ALPHA_ELASTIC,\n",
    "            param_l1_elastic=self.params.L1_RATIO_ELASTIC,\n",
    "            param_c_svr=self.params.C_SVR,\n",
    "            param_target_col=self.params.TARGET\n",
    "        )                                     \n",
    "\n",
    "        return model_preparation_training_config"
   ]
  },
  {
   "cell_type": "code",
   "execution_count": 6,
   "metadata": {},
   "outputs": [],
   "source": [
    "class ModelPreparationTraining:\n",
    "    def __init__(self, config: ModelPreparationTrainingConfig):\n",
    "        self.config = config\n",
    "\n",
    "    \n",
    "    \n",
    "    def read_file(self):\n",
    "        \"\"\"\n",
    "        Read the csv file\n",
    "        \"\"\"\n",
    "        try:\n",
    "            \n",
    "            training_data = pd.read_csv(self.config.local_data_file)\n",
    "\n",
    "            return training_data\n",
    "\n",
    "        except Exception as e:\n",
    "            e\n",
    "\n",
    "    def model_preparation_training(self,training_data):\n",
    "        \"\"\"\n",
    "        Prepare the data and the model, and then train and save the trained models\n",
    "        \"\"\"\n",
    "        X_train = training_data.drop(labels = self.config.param_target_col, axis = 1)\n",
    "        y_train = training_data[self.config.param_target_col]\n",
    "\n",
    "        rfr = RandomForestRegressor(n_estimators=self.config.param_n_estim_rfr, random_state=self.config.param_random_state)\n",
    "        rfr.fit(X_train,y_train)\n",
    "        svr = SVR(C=self.config.param_c_svr)\n",
    "        svr.fit(X_train,y_train)\n",
    "        lr = LinearRegression()\n",
    "        lr.fit(X_train,y_train)\n",
    "        lasso = Lasso(alpha=self.config.param_alpha_lasso)\n",
    "        lasso.fit(X_train,y_train)\n",
    "        ridge = Ridge(alpha=self.config.param_alpha_ridge)\n",
    "        ridge.fit(X_train,y_train)\n",
    "        elastic = ElasticNet(alpha=self.config.param_alpha_elastic, l1_ratio=self.config.param_l1_elastic)\n",
    "        elastic.fit(X_train,y_train)\n",
    "\n",
    "        rfr_pkl = \"rfr.pkl\"\n",
    "        svr_pkl = \"svr.pkl\"\n",
    "        lr_pkl = \"lr.pkl\"\n",
    "        lasso_pkl = \"lasso.pkl\"\n",
    "        ridge_pkl = \"ridge.pkl\"\n",
    "        elastic_pkl = \"elastic.pkl\"\n",
    "\n",
    "        save_object(Path(self.config.trained_model_path),rfr,rfr_pkl)\n",
    "        save_object(Path(self.config.trained_model_path),svr,svr_pkl)\n",
    "        save_object(Path(self.config.trained_model_path),lr,lr_pkl)\n",
    "        save_object(Path(self.config.trained_model_path),lasso,lasso_pkl)\n",
    "        save_object(Path(self.config.trained_model_path),ridge,ridge_pkl)\n",
    "        save_object(Path(self.config.trained_model_path),elastic,elastic_pkl)\n",
    "        \n",
    "        return None\n",
    "    "
   ]
  },
  {
   "cell_type": "code",
   "execution_count": 7,
   "metadata": {},
   "outputs": [
    {
     "name": "stdout",
     "output_type": "stream",
     "text": [
      "[2024-06-13 23:33:17,320: INFO: common: yaml file: config\\config.yaml loaded successfully]\n",
      "[2024-06-13 23:33:17,322: INFO: common: yaml file: params.yaml loaded successfully]\n",
      "[2024-06-13 23:33:17,323: INFO: common: created directory at: artifacts]\n"
     ]
    }
   ],
   "source": [
    "try:\n",
    "    config = ConfigurationManager()\n",
    "    model_preparation_training_config = config.get_model_preparation_training_config()\n",
    "    model_preparation_training = ModelPreparationTraining(config=model_preparation_training_config)\n",
    "    training_data = model_preparation_training.read_file()\n",
    "    model_preparation_training.model_preparation_training(training_data)\n",
    "except Exception as e:\n",
    "    raise e\n"
   ]
  },
  {
   "cell_type": "code",
   "execution_count": null,
   "metadata": {},
   "outputs": [],
   "source": []
  }
 ],
 "metadata": {
  "kernelspec": {
   "display_name": "Python 3",
   "language": "python",
   "name": "python3"
  },
  "language_info": {
   "codemirror_mode": {
    "name": "ipython",
    "version": 3
   },
   "file_extension": ".py",
   "mimetype": "text/x-python",
   "name": "python",
   "nbconvert_exporter": "python",
   "pygments_lexer": "ipython3",
   "version": "3.11.9"
  }
 },
 "nbformat": 4,
 "nbformat_minor": 2
}
