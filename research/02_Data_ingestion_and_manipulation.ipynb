{
 "cells": [
  {
   "cell_type": "markdown",
   "metadata": {},
   "source": [
    "# In this code we will perform the data ingestion and manipulation that will be later used in the modular project"
   ]
  },
  {
   "cell_type": "code",
   "execution_count": 1,
   "metadata": {},
   "outputs": [],
   "source": [
    "# Importing core libraries\n",
    "\n",
    "import os \n",
    "import sys\n",
    "\n",
    "import numpy as np\n",
    "import pandas as pd\n",
    "from sklearn.preprocessing import LabelEncoder, MinMaxScaler\n",
    "from sklearn.model_selection import train_test_split"
   ]
  },
  {
   "cell_type": "code",
   "execution_count": 2,
   "metadata": {},
   "outputs": [],
   "source": [
    "os.chdir(\"../\")"
   ]
  },
  {
   "cell_type": "code",
   "execution_count": 3,
   "metadata": {},
   "outputs": [
    {
     "data": {
      "text/plain": [
       "'c:\\\\Users\\\\agost\\\\Data_Career\\\\End_to_end_projects\\\\Abalone_Age_Prediction'"
      ]
     },
     "execution_count": 3,
     "metadata": {},
     "output_type": "execute_result"
    }
   ],
   "source": [
    "%pwd"
   ]
  },
  {
   "cell_type": "code",
   "execution_count": 4,
   "metadata": {},
   "outputs": [],
   "source": [
    "from dataclasses import dataclass\n",
    "from pathlib import Path\n",
    "\n",
    "@dataclass(frozen=True)\n",
    "class DataIngestionManipulationConfig:\n",
    "    root_dir: Path\n",
    "    local_data_file: Path\n",
    "    source_URL: str\n",
    "    save_training_file: Path\n",
    "    target_col: str"
   ]
  },
  {
   "cell_type": "code",
   "execution_count": 5,
   "metadata": {},
   "outputs": [],
   "source": [
    "from Abalone_Age_Prediction.utils.common import create_directories, read_yaml, save_data\n",
    "from Abalone_Age_Prediction.constants import *\n",
    "from Abalone_Age_Prediction import logger"
   ]
  },
  {
   "cell_type": "code",
   "execution_count": 6,
   "metadata": {},
   "outputs": [],
   "source": [
    "class ConfigurationManager:\n",
    "    def __init__(self,\n",
    "                 config_filepath = CONFIG_FILE_PATH,\n",
    "                 params_filepath = PARAMS_FILE_PATH):\n",
    "        self.config = read_yaml(config_filepath)\n",
    "        self.params = read_yaml(params_filepath)\n",
    "\n",
    "        create_directories([self.config.artifacts_root]) #the artifacts_root is the key of the dictionary created\n",
    "                                                # in the yaml file and we can read this key like that instead of\n",
    "                                                # [\"artifacts_root\"] because we used the ConfigBox in the common.py file\n",
    "\n",
    "\n",
    "    def get_data_ingestion_config(self) -> DataIngestionManipulationConfig:\n",
    "        config = self.config.data_ingestion_manipulation #data ingestion is the other key value of the dictionary in the config.yaml file\n",
    "\n",
    "        create_directories([config.root_dir,config.save_training_file])\n",
    "\n",
    "        data_ingestion_manipulation_config = DataIngestionManipulationConfig(\n",
    "            root_dir=config.root_dir,\n",
    "            local_data_file = config.local_data_file,\n",
    "            source_URL = config.source_URL,\n",
    "            save_training_file= config.save_training_file,\n",
    "            target_col=self.params.TARGET\n",
    "        )                                     \n",
    "\n",
    "        return data_ingestion_manipulation_config"
   ]
  },
  {
   "cell_type": "code",
   "execution_count": 7,
   "metadata": {},
   "outputs": [],
   "source": [
    "import urllib.request as request"
   ]
  },
  {
   "cell_type": "code",
   "execution_count": 8,
   "metadata": {},
   "outputs": [],
   "source": [
    "class DataIngestionManipulation:\n",
    "    def __init__(self, config: DataIngestionManipulationConfig):\n",
    "        self.config = config\n",
    "\n",
    "    def download_file(self):\n",
    "        \"\"\"\n",
    "        file_path: str\n",
    "        Download, if it doesn't already exists, the csv file with data, don't need a return, just to save the Data\n",
    "        \"\"\"\n",
    "        if not os.path.exists(self.config.local_data_file):\n",
    "            filename, headers = request.urlretrieve(\n",
    "                url = self.config.source_URL,\n",
    "                filename= self.config.local_data_file\n",
    "            )\n",
    "\n",
    "            #logger.info(f\"{filename} is downloading with the following info: \\n{headers}\")\n",
    "        else:\n",
    "            logger.info(f\"File already downloaded\")\n",
    "        \n",
    "        return None\n",
    "    \n",
    "    def read_file(self):\n",
    "        \"\"\"\n",
    "        Read the csv file\n",
    "        \"\"\"\n",
    "        try:\n",
    "            \n",
    "            df = pd.read_csv(self.config.local_data_file)\n",
    "\n",
    "            return df\n",
    "\n",
    "        except Exception as e:\n",
    "            e\n",
    "\n",
    "    def preprocess_file(self,df):\n",
    "        \"\"\"\n",
    "        Preprocess the data and save it into a training and testing files\n",
    "        \"\"\"\n",
    "\n",
    "        numerical_cols = df.select_dtypes(include='number').columns\n",
    "        categorical_cols = df.select_dtypes(include='object').columns\n",
    "\n",
    "        \n",
    "\n",
    "        for col in categorical_cols:\n",
    "            encoder = LabelEncoder()\n",
    "            df[col] = encoder.fit_transform(df[col])\n",
    "\n",
    "        X = df.drop(labels = self.config.target_col, axis = 1)\n",
    "        y = df[self.config.target_col]\n",
    "        \n",
    "        scaler = MinMaxScaler()\n",
    "        numerical_cols = numerical_cols.drop(self.config.target_col)\n",
    "        X[numerical_cols] = scaler.fit_transform(X[numerical_cols])\n",
    "\n",
    "        X_train, X_test, y_train, y_test = train_test_split(X,y, test_size=0.2,random_state=10)\n",
    "\n",
    "        train_data = pd.concat([X_train,y_train])\n",
    "        test_data = pd.concat([X_test,y_test])\n",
    "\n",
    "        training_path = self.config.save_training_file\n",
    "        #print(\"Before\")\n",
    "        save_data(Path(training_path),train_data,\"train.csv\")\n",
    "        #print(\"After\")\n",
    "        save_data(Path(training_path),test_data,\"test.csv\")\n",
    "        \n",
    "        return None\n",
    "    \n",
    "\n",
    "    \n"
   ]
  },
  {
   "cell_type": "code",
   "execution_count": 9,
   "metadata": {},
   "outputs": [],
   "source": [
    "#os.chdir(\"../../\")"
   ]
  },
  {
   "cell_type": "code",
   "execution_count": 12,
   "metadata": {},
   "outputs": [
    {
     "data": {
      "text/plain": [
       "'c:\\\\Users\\\\agost\\\\Data_Career\\\\End_to_end_projects\\\\Abalone_Age_Prediction'"
      ]
     },
     "execution_count": 12,
     "metadata": {},
     "output_type": "execute_result"
    }
   ],
   "source": [
    "\n",
    "%pwd"
   ]
  },
  {
   "cell_type": "code",
   "execution_count": 13,
   "metadata": {},
   "outputs": [
    {
     "name": "stdout",
     "output_type": "stream",
     "text": [
      "[2024-06-13 19:56:13,321: INFO: common: yaml file: config\\config.yaml loaded successfully]\n",
      "[2024-06-13 19:56:13,322: INFO: common: yaml file: params.yaml loaded successfully]\n",
      "[2024-06-13 19:56:13,323: INFO: common: created directory at: artifacts]\n",
      "[2024-06-13 19:56:13,323: INFO: common: created directory at: artifacts/data_ingestion]\n",
      "[2024-06-13 19:56:13,324: INFO: common: created directory at: artifacts/training]\n",
      "[2024-06-13 19:56:13,581: INFO: 983651373: artifacts/data_ingestion/abalone.csv is downloading with the following info: \n",
      "Connection: close\n",
      "Content-Length: 191962\n",
      "Cache-Control: max-age=300\n",
      "Content-Security-Policy: default-src 'none'; style-src 'unsafe-inline'; sandbox\n",
      "Content-Type: text/plain; charset=utf-8\n",
      "ETag: \"7297242ad999990e87c9e91ce42e50c9920611902ef8e3289192993e1092cb91\"\n",
      "Strict-Transport-Security: max-age=31536000\n",
      "X-Content-Type-Options: nosniff\n",
      "X-Frame-Options: deny\n",
      "X-XSS-Protection: 1; mode=block\n",
      "X-GitHub-Request-Id: 4580:2A87CD:15CAA8:16B1FD:666B227F\n",
      "Accept-Ranges: bytes\n",
      "Date: Thu, 13 Jun 2024 17:56:13 GMT\n",
      "Via: 1.1 varnish\n",
      "X-Served-By: cache-par-lfpg1960075-PAR\n",
      "X-Cache: HIT\n",
      "X-Cache-Hits: 0\n",
      "X-Timer: S1718301374.624443,VS0,VE1\n",
      "Vary: Authorization,Accept-Encoding,Origin\n",
      "Access-Control-Allow-Origin: *\n",
      "Cross-Origin-Resource-Policy: cross-origin\n",
      "X-Fastly-Request-ID: 17026adf190746f5b10337c749938d1b9fe2e797\n",
      "Expires: Thu, 13 Jun 2024 18:01:13 GMT\n",
      "Source-Age: 99\n",
      "\n",
      "]\n",
      "[2024-06-13 19:56:13,621: INFO: common: File train.csv saved]\n",
      "[2024-06-13 19:56:13,629: INFO: common: File test.csv saved]\n"
     ]
    }
   ],
   "source": [
    "try:\n",
    "    config = ConfigurationManager()\n",
    "    data_ingestion_manipulation_config = config.get_data_ingestion_config()\n",
    "    data_ingestion_manipulation = DataIngestionManipulation(config=data_ingestion_manipulation_config)\n",
    "    data_ingestion_manipulation.download_file()\n",
    "    data = data_ingestion_manipulation.read_file()\n",
    "    data_ingestion_manipulation.preprocess_file(data)\n",
    "    \n",
    "except Exception as e:\n",
    "    raise e"
   ]
  }
 ],
 "metadata": {
  "kernelspec": {
   "display_name": "Python 3",
   "language": "python",
   "name": "python3"
  },
  "language_info": {
   "codemirror_mode": {
    "name": "ipython",
    "version": 3
   },
   "file_extension": ".py",
   "mimetype": "text/x-python",
   "name": "python",
   "nbconvert_exporter": "python",
   "pygments_lexer": "ipython3",
   "version": "3.11.9"
  }
 },
 "nbformat": 4,
 "nbformat_minor": 2
}
