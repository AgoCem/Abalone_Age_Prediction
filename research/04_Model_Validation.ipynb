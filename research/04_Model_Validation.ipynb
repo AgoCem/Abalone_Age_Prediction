{
 "cells": [
  {
   "cell_type": "code",
   "execution_count": 1,
   "metadata": {},
   "outputs": [],
   "source": [
    "import os\n",
    "os.chdir(\"../\")"
   ]
  },
  {
   "cell_type": "code",
   "execution_count": 2,
   "metadata": {},
   "outputs": [
    {
     "data": {
      "text/plain": [
       "'c:\\\\Users\\\\agost\\\\Data_Career\\\\End_to_end_projects\\\\Abalone_Age_Prediction'"
      ]
     },
     "execution_count": 2,
     "metadata": {},
     "output_type": "execute_result"
    }
   ],
   "source": [
    "%pwd"
   ]
  },
  {
   "cell_type": "code",
   "execution_count": 10,
   "metadata": {},
   "outputs": [],
   "source": [
    "from dataclasses import dataclass\n",
    "from pathlib import Path\n",
    "\n",
    "@dataclass(frozen=True)\n",
    "class ModelEvaluationConfig:\n",
    "    root_dir: Path\n",
    "    local_data_file: Path\n",
    "    trained_model_path: Path\n",
    "    param_target_col: str\n",
    "    elastic_pickle: Path\n",
    "    lasso_pickle: Path\n",
    "    lr_pickle: Path\n",
    "    rfr_pickle: Path\n",
    "    ridge_pickle: Path\n",
    "    svr_pickle: Path"
   ]
  },
  {
   "cell_type": "code",
   "execution_count": 7,
   "metadata": {},
   "outputs": [],
   "source": [
    "from Abalone_Age_Prediction.utils.common import create_directories, read_yaml, load_object\n",
    "from Abalone_Age_Prediction.constants import *\n"
   ]
  },
  {
   "cell_type": "code",
   "execution_count": 11,
   "metadata": {},
   "outputs": [],
   "source": [
    "class ConfigurationManager:\n",
    "    def __init__(self,\n",
    "                 config_filepath = CONFIG_FILE_PATH,\n",
    "                 params_filepath = PARAMS_FILE_PATH):\n",
    "        self.config = read_yaml(config_filepath)\n",
    "        self.params = read_yaml(params_filepath)\n",
    "\n",
    "        create_directories([self.config.artifacts_root]) #the artifacts_root is the key of the dictionary created\n",
    "                                                # in the yaml file and we can read this key like that instead of\n",
    "                                                # [\"artifacts_root\"] because we used the ConfigBox in the common.py file\n",
    "\n",
    "\n",
    "    def get_model_evaluation_config(self) -> ModelEvaluationConfig:\n",
    "        config = self.config.model_evaluation #model evaluation is the other key value of the dictionary in the config.yaml file\n",
    "\n",
    "        create_directories([config.root_dir,config.save_training_file])\n",
    "\n",
    "        model_evaluation_config = ModelEvaluationConfig(\n",
    "            root_dir=config.root_dir,\n",
    "            local_data_file = config.local_data_file,\n",
    "            trained_model_path = config.trained_model_path,\n",
    "            param_target_col=self.params.TARGET,\n",
    "            elastic_pickle= config.elastic_pickle,\n",
    "            lasso_pickle= config.lasso_pickle,\n",
    "            lr_pickle= config.lr_pickle,\n",
    "            rfr_pickle= config.rfr_pickle,\n",
    "            ridge_pickle= config.ridge_pickle,\n",
    "            svr_pickle= config.svr_pickle\n",
    "        )                                     \n",
    "\n",
    "        return model_evaluation_config"
   ]
  },
  {
   "cell_type": "code",
   "execution_count": 9,
   "metadata": {},
   "outputs": [],
   "source": [
    "import pandas as pd\n",
    "from sklearn.metrics import r2_score,mean_squared_error,mean_absolute_error"
   ]
  },
  {
   "cell_type": "code",
   "execution_count": 12,
   "metadata": {},
   "outputs": [],
   "source": [
    "class ModelPreparationTraining:\n",
    "    def __init__(self, config: ModelEvaluationConfig):\n",
    "        self.config = config\n",
    "\n",
    "    \n",
    "    \n",
    "    def read_file(self):\n",
    "        \"\"\"\n",
    "        Read the csv file\n",
    "        \"\"\"\n",
    "        try:\n",
    "            \n",
    "            testing_data = pd.read_csv(self.config.local_data_file)\n",
    "\n",
    "            return testing_data\n",
    "\n",
    "        except Exception as e:\n",
    "            e\n",
    "\n",
    "    def evaluation_metrics(self,X_test,y_test, models):\n",
    "        \"\"\"\n",
    "        Evaluate all the models and returns 3 dictionaries with the different evaluation scores\n",
    "        \"\"\"\n",
    "        \n",
    "\n",
    "\n",
    "    def model_evaluation(self,testing_data):\n",
    "        \"\"\"\n",
    "        Loading the data and the models and evaluate them\n",
    "        \"\"\"\n",
    "        X_test = testing_data.drop(labels = self.config.param_target_col, axis = 1)\n",
    "        y_test = testing_data[self.config.param_target_col]\n",
    "\n",
    "        models = {\n",
    "            \"elastic\" : load_object(Path(self.config.elastic_pickle)),\n",
    "            \"lasso\" : load_object(Path(self.config.lasso_pickle)),\n",
    "            \"lr\" : load_object(Path(self.config.lr_pickle)),\n",
    "            \"rfr\" : load_object(Path(self.config.rfr_pickle)),\n",
    "            \"ridge\" : load_object(Path(self.config.ridge_pickle)),\n",
    "            \"svr\" : load_object(Path(self.config.svr_pickle))\n",
    "        }\n",
    "\n",
    "        \n",
    "\n"
   ]
  },
  {
   "cell_type": "code",
   "execution_count": 15,
   "metadata": {},
   "outputs": [
    {
     "name": "stdout",
     "output_type": "stream",
     "text": [
      "1\n",
      "2\n"
     ]
    }
   ],
   "source": [
    "dic = {\"key1\" : 1,\n",
    "       \"key2\" : 2}\n",
    "\n",
    "for key in dic.keys():\n",
    "    print(dic[key])"
   ]
  },
  {
   "cell_type": "code",
   "execution_count": null,
   "metadata": {},
   "outputs": [],
   "source": []
  }
 ],
 "metadata": {
  "kernelspec": {
   "display_name": "Python 3",
   "language": "python",
   "name": "python3"
  },
  "language_info": {
   "codemirror_mode": {
    "name": "ipython",
    "version": 3
   },
   "file_extension": ".py",
   "mimetype": "text/x-python",
   "name": "python",
   "nbconvert_exporter": "python",
   "pygments_lexer": "ipython3",
   "version": "3.11.9"
  }
 },
 "nbformat": 4,
 "nbformat_minor": 2
}
